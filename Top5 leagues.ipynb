{
 "cells": [
  {
   "cell_type": "markdown",
   "metadata": {
    "id": "KPnwYID-AN2M"
   },
   "source": [
    "Import the libraries needed\n"
   ]
  },
  {
   "cell_type": "code",
   "execution_count": 23,
   "metadata": {
    "id": "8w19QMm_8Zqt"
   },
   "outputs": [],
   "source": [
    "import pandas as pd\n",
    "import matplotlib.pyplot as plt"
   ]
  },
  {
   "cell_type": "markdown",
   "metadata": {
    "id": "AuasG62NAVxD"
   },
   "source": [
    "Upload the dataframe of the standings of the top 5 leagues for 2022/2023 from wikipedia"
   ]
  },
  {
   "cell_type": "code",
   "execution_count": 24,
   "metadata": {
    "id": "08a1RRvg9Wyh"
   },
   "outputs": [],
   "source": [
    "bun=pd.read_html(\"https://en.wikipedia.org/wiki/2022%E2%80%9323_Bundesliga\")[12]\n",
    "epl=pd.read_html('https://en.wikipedia.org/wiki/2022%E2%80%9323_Premier_League')[6]\n",
    "lig1=pd.read_html(\"https://en.wikipedia.org/wiki/2022%E2%80%9323_Ligue_1\")[8]\n",
    "ser=pd.read_html(\"https://en.wikipedia.org/wiki/2022%E2%80%9323_Serie_A\")[10]\n",
    "laliga=pd.read_html(\"https://en.wikipedia.org/wiki/2022%E2%80%9323_La_Liga\")[7]"
   ]
  },
  {
   "cell_type": "markdown",
   "metadata": {},
   "source": [
    "Add the league column to the different leagues with the respective league names"
   ]
  },
  {
   "cell_type": "code",
   "execution_count": 25,
   "metadata": {
    "colab": {
     "base_uri": "https://localhost:8080/",
     "height": 206
    },
    "id": "qiyfRVH2yG7q",
    "outputId": "cb7cd6e8-43c7-4c01-afc3-91571c1c170c"
   },
   "outputs": [
    {
     "data": {
      "text/html": [
       "<div>\n",
       "<style scoped>\n",
       "    .dataframe tbody tr th:only-of-type {\n",
       "        vertical-align: middle;\n",
       "    }\n",
       "\n",
       "    .dataframe tbody tr th {\n",
       "        vertical-align: top;\n",
       "    }\n",
       "\n",
       "    .dataframe thead th {\n",
       "        text-align: right;\n",
       "    }\n",
       "</style>\n",
       "<table border=\"1\" class=\"dataframe\">\n",
       "  <thead>\n",
       "    <tr style=\"text-align: right;\">\n",
       "      <th></th>\n",
       "      <th>Rank</th>\n",
       "      <th>Player</th>\n",
       "      <th>Club</th>\n",
       "      <th>Goals[67]</th>\n",
       "      <th>League</th>\n",
       "    </tr>\n",
       "  </thead>\n",
       "  <tbody>\n",
       "    <tr>\n",
       "      <th>0</th>\n",
       "      <td>1</td>\n",
       "      <td>Niclas Füllkrug</td>\n",
       "      <td>Werder Bremen</td>\n",
       "      <td>16</td>\n",
       "      <td>Bundesliga</td>\n",
       "    </tr>\n",
       "    <tr>\n",
       "      <th>1</th>\n",
       "      <td>1</td>\n",
       "      <td>Christopher Nkunku</td>\n",
       "      <td>RB Leipzig</td>\n",
       "      <td>16</td>\n",
       "      <td>Bundesliga</td>\n",
       "    </tr>\n",
       "    <tr>\n",
       "      <th>2</th>\n",
       "      <td>3</td>\n",
       "      <td>Vincenzo Grifo</td>\n",
       "      <td>SC Freiburg</td>\n",
       "      <td>15</td>\n",
       "      <td>Bundesliga</td>\n",
       "    </tr>\n",
       "    <tr>\n",
       "      <th>3</th>\n",
       "      <td>3</td>\n",
       "      <td>Randal Kolo Muani</td>\n",
       "      <td>Eintracht Frankfurt</td>\n",
       "      <td>15</td>\n",
       "      <td>Bundesliga</td>\n",
       "    </tr>\n",
       "    <tr>\n",
       "      <th>4</th>\n",
       "      <td>5</td>\n",
       "      <td>Serge Gnabry</td>\n",
       "      <td>Bayern Munich</td>\n",
       "      <td>14</td>\n",
       "      <td>Bundesliga</td>\n",
       "    </tr>\n",
       "  </tbody>\n",
       "</table>\n",
       "</div>"
      ],
      "text/plain": [
       "   Rank              Player                 Club  Goals[67]      League\n",
       "0     1     Niclas Füllkrug        Werder Bremen         16  Bundesliga\n",
       "1     1  Christopher Nkunku           RB Leipzig         16  Bundesliga\n",
       "2     3      Vincenzo Grifo          SC Freiburg         15  Bundesliga\n",
       "3     3   Randal Kolo Muani  Eintracht Frankfurt         15  Bundesliga\n",
       "4     5        Serge Gnabry        Bayern Munich         14  Bundesliga"
      ]
     },
     "execution_count": 25,
     "metadata": {},
     "output_type": "execute_result"
    }
   ],
   "source": [
    "bun['League']='Bundesliga'\n",
    "bun.head()"
   ]
  },
  {
   "cell_type": "code",
   "execution_count": 26,
   "metadata": {
    "colab": {
     "base_uri": "https://localhost:8080/",
     "height": 206
    },
    "id": "sCld7-PCyQHq",
    "outputId": "0c54ed3e-7b5d-4aa2-b8b8-ed8fd0d27302"
   },
   "outputs": [
    {
     "data": {
      "text/html": [
       "<div>\n",
       "<style scoped>\n",
       "    .dataframe tbody tr th:only-of-type {\n",
       "        vertical-align: middle;\n",
       "    }\n",
       "\n",
       "    .dataframe tbody tr th {\n",
       "        vertical-align: top;\n",
       "    }\n",
       "\n",
       "    .dataframe thead th {\n",
       "        text-align: right;\n",
       "    }\n",
       "</style>\n",
       "<table border=\"1\" class=\"dataframe\">\n",
       "  <thead>\n",
       "    <tr style=\"text-align: right;\">\n",
       "      <th></th>\n",
       "      <th>Rank</th>\n",
       "      <th>Player</th>\n",
       "      <th>Club</th>\n",
       "      <th>Goals[130]</th>\n",
       "      <th>League</th>\n",
       "    </tr>\n",
       "  </thead>\n",
       "  <tbody>\n",
       "    <tr>\n",
       "      <th>0</th>\n",
       "      <td>1</td>\n",
       "      <td>Erling Haaland</td>\n",
       "      <td>Manchester City</td>\n",
       "      <td>36</td>\n",
       "      <td>Premier league</td>\n",
       "    </tr>\n",
       "    <tr>\n",
       "      <th>1</th>\n",
       "      <td>2</td>\n",
       "      <td>Harry Kane</td>\n",
       "      <td>Tottenham Hotspur</td>\n",
       "      <td>30</td>\n",
       "      <td>Premier league</td>\n",
       "    </tr>\n",
       "    <tr>\n",
       "      <th>2</th>\n",
       "      <td>3</td>\n",
       "      <td>Ivan Toney</td>\n",
       "      <td>Brentford</td>\n",
       "      <td>20</td>\n",
       "      <td>Premier league</td>\n",
       "    </tr>\n",
       "    <tr>\n",
       "      <th>3</th>\n",
       "      <td>4</td>\n",
       "      <td>Mohamed Salah</td>\n",
       "      <td>Liverpool</td>\n",
       "      <td>19</td>\n",
       "      <td>Premier league</td>\n",
       "    </tr>\n",
       "    <tr>\n",
       "      <th>4</th>\n",
       "      <td>5</td>\n",
       "      <td>Callum Wilson</td>\n",
       "      <td>Newcastle United</td>\n",
       "      <td>18</td>\n",
       "      <td>Premier league</td>\n",
       "    </tr>\n",
       "  </tbody>\n",
       "</table>\n",
       "</div>"
      ],
      "text/plain": [
       "   Rank          Player               Club  Goals[130]          League\n",
       "0     1  Erling Haaland    Manchester City          36  Premier league\n",
       "1     2      Harry Kane  Tottenham Hotspur          30  Premier league\n",
       "2     3      Ivan Toney          Brentford          20  Premier league\n",
       "3     4   Mohamed Salah          Liverpool          19  Premier league\n",
       "4     5   Callum Wilson   Newcastle United          18  Premier league"
      ]
     },
     "execution_count": 26,
     "metadata": {},
     "output_type": "execute_result"
    }
   ],
   "source": [
    "epl['League']='Premier league'\n",
    "epl.head()"
   ]
  },
  {
   "cell_type": "code",
   "execution_count": 27,
   "metadata": {
    "colab": {
     "base_uri": "https://localhost:8080/",
     "height": 206
    },
    "id": "-NTw9I5VySjn",
    "outputId": "4d0bf15f-3de6-40d6-ac5e-2a355a48810d"
   },
   "outputs": [
    {
     "data": {
      "text/html": [
       "<div>\n",
       "<style scoped>\n",
       "    .dataframe tbody tr th:only-of-type {\n",
       "        vertical-align: middle;\n",
       "    }\n",
       "\n",
       "    .dataframe tbody tr th {\n",
       "        vertical-align: top;\n",
       "    }\n",
       "\n",
       "    .dataframe thead th {\n",
       "        text-align: right;\n",
       "    }\n",
       "</style>\n",
       "<table border=\"1\" class=\"dataframe\">\n",
       "  <thead>\n",
       "    <tr style=\"text-align: right;\">\n",
       "      <th></th>\n",
       "      <th>Rank</th>\n",
       "      <th>Player</th>\n",
       "      <th>Club</th>\n",
       "      <th>Goals[44]</th>\n",
       "      <th>League</th>\n",
       "    </tr>\n",
       "  </thead>\n",
       "  <tbody>\n",
       "    <tr>\n",
       "      <th>0</th>\n",
       "      <td>1</td>\n",
       "      <td>Victor Osimhen</td>\n",
       "      <td>Napoli</td>\n",
       "      <td>26</td>\n",
       "      <td>Serie A</td>\n",
       "    </tr>\n",
       "    <tr>\n",
       "      <th>1</th>\n",
       "      <td>2</td>\n",
       "      <td>Lautaro Martínez</td>\n",
       "      <td>Inter Milan</td>\n",
       "      <td>21</td>\n",
       "      <td>Serie A</td>\n",
       "    </tr>\n",
       "    <tr>\n",
       "      <th>2</th>\n",
       "      <td>3</td>\n",
       "      <td>Boulaye Dia</td>\n",
       "      <td>Salernitana</td>\n",
       "      <td>16</td>\n",
       "      <td>Serie A</td>\n",
       "    </tr>\n",
       "    <tr>\n",
       "      <th>3</th>\n",
       "      <td>4</td>\n",
       "      <td>Rafael Leão</td>\n",
       "      <td>AC Milan</td>\n",
       "      <td>15</td>\n",
       "      <td>Serie A</td>\n",
       "    </tr>\n",
       "    <tr>\n",
       "      <th>4</th>\n",
       "      <td>5</td>\n",
       "      <td>Olivier Giroud</td>\n",
       "      <td>AC Milan</td>\n",
       "      <td>13</td>\n",
       "      <td>Serie A</td>\n",
       "    </tr>\n",
       "  </tbody>\n",
       "</table>\n",
       "</div>"
      ],
      "text/plain": [
       "   Rank            Player         Club  Goals[44]   League\n",
       "0     1    Victor Osimhen       Napoli         26  Serie A\n",
       "1     2  Lautaro Martínez  Inter Milan         21  Serie A\n",
       "2     3       Boulaye Dia  Salernitana         16  Serie A\n",
       "3     4       Rafael Leão     AC Milan         15  Serie A\n",
       "4     5    Olivier Giroud     AC Milan         13  Serie A"
      ]
     },
     "execution_count": 27,
     "metadata": {},
     "output_type": "execute_result"
    }
   ],
   "source": [
    "ser['League']='Serie A'\n",
    "ser.head()"
   ]
  },
  {
   "cell_type": "code",
   "execution_count": 28,
   "metadata": {
    "colab": {
     "base_uri": "https://localhost:8080/",
     "height": 206
    },
    "id": "ES4JiKx6yWOb",
    "outputId": "1144cb98-f414-4c0e-c37d-4af71191278b"
   },
   "outputs": [
    {
     "data": {
      "text/html": [
       "<div>\n",
       "<style scoped>\n",
       "    .dataframe tbody tr th:only-of-type {\n",
       "        vertical-align: middle;\n",
       "    }\n",
       "\n",
       "    .dataframe tbody tr th {\n",
       "        vertical-align: top;\n",
       "    }\n",
       "\n",
       "    .dataframe thead th {\n",
       "        text-align: right;\n",
       "    }\n",
       "</style>\n",
       "<table border=\"1\" class=\"dataframe\">\n",
       "  <thead>\n",
       "    <tr style=\"text-align: right;\">\n",
       "      <th></th>\n",
       "      <th>Rank</th>\n",
       "      <th>Player</th>\n",
       "      <th>Club</th>\n",
       "      <th>Goals[47]</th>\n",
       "      <th>League</th>\n",
       "    </tr>\n",
       "  </thead>\n",
       "  <tbody>\n",
       "    <tr>\n",
       "      <th>0</th>\n",
       "      <td>1</td>\n",
       "      <td>Robert Lewandowski</td>\n",
       "      <td>Barcelona</td>\n",
       "      <td>23</td>\n",
       "      <td>Laliga</td>\n",
       "    </tr>\n",
       "    <tr>\n",
       "      <th>1</th>\n",
       "      <td>2</td>\n",
       "      <td>Karim Benzema</td>\n",
       "      <td>Real Madrid</td>\n",
       "      <td>19</td>\n",
       "      <td>Laliga</td>\n",
       "    </tr>\n",
       "    <tr>\n",
       "      <th>2</th>\n",
       "      <td>3</td>\n",
       "      <td>Joselu</td>\n",
       "      <td>Espanyol</td>\n",
       "      <td>16</td>\n",
       "      <td>Laliga</td>\n",
       "    </tr>\n",
       "    <tr>\n",
       "      <th>3</th>\n",
       "      <td>4</td>\n",
       "      <td>Antoine Griezmann</td>\n",
       "      <td>Atlético Madrid</td>\n",
       "      <td>15</td>\n",
       "      <td>Laliga</td>\n",
       "    </tr>\n",
       "    <tr>\n",
       "      <th>4</th>\n",
       "      <td>4</td>\n",
       "      <td>Borja Iglesias</td>\n",
       "      <td>Real Betis</td>\n",
       "      <td>15</td>\n",
       "      <td>Laliga</td>\n",
       "    </tr>\n",
       "  </tbody>\n",
       "</table>\n",
       "</div>"
      ],
      "text/plain": [
       "   Rank              Player             Club  Goals[47]  League\n",
       "0     1  Robert Lewandowski        Barcelona         23  Laliga\n",
       "1     2       Karim Benzema      Real Madrid         19  Laliga\n",
       "2     3              Joselu         Espanyol         16  Laliga\n",
       "3     4   Antoine Griezmann  Atlético Madrid         15  Laliga\n",
       "4     4      Borja Iglesias       Real Betis         15  Laliga"
      ]
     },
     "execution_count": 28,
     "metadata": {},
     "output_type": "execute_result"
    }
   ],
   "source": [
    "laliga['League']='Laliga'\n",
    "laliga.head()"
   ]
  },
  {
   "cell_type": "code",
   "execution_count": 29,
   "metadata": {
    "colab": {
     "base_uri": "https://localhost:8080/",
     "height": 206
    },
    "id": "KWkdTc6HyZp5",
    "outputId": "d5d024a4-f337-48b2-a4fb-11e845ef431c"
   },
   "outputs": [
    {
     "data": {
      "text/html": [
       "<div>\n",
       "<style scoped>\n",
       "    .dataframe tbody tr th:only-of-type {\n",
       "        vertical-align: middle;\n",
       "    }\n",
       "\n",
       "    .dataframe tbody tr th {\n",
       "        vertical-align: top;\n",
       "    }\n",
       "\n",
       "    .dataframe thead th {\n",
       "        text-align: right;\n",
       "    }\n",
       "</style>\n",
       "<table border=\"1\" class=\"dataframe\">\n",
       "  <thead>\n",
       "    <tr style=\"text-align: right;\">\n",
       "      <th></th>\n",
       "      <th>Rank</th>\n",
       "      <th>Player</th>\n",
       "      <th>Club</th>\n",
       "      <th>Goals[38]</th>\n",
       "      <th>League</th>\n",
       "    </tr>\n",
       "  </thead>\n",
       "  <tbody>\n",
       "    <tr>\n",
       "      <th>0</th>\n",
       "      <td>1</td>\n",
       "      <td>Kylian Mbappé</td>\n",
       "      <td>Paris Saint-Germain</td>\n",
       "      <td>29</td>\n",
       "      <td>Ligue 1</td>\n",
       "    </tr>\n",
       "    <tr>\n",
       "      <th>1</th>\n",
       "      <td>2</td>\n",
       "      <td>Alexandre Lacazette</td>\n",
       "      <td>Lyon</td>\n",
       "      <td>27</td>\n",
       "      <td>Ligue 1</td>\n",
       "    </tr>\n",
       "    <tr>\n",
       "      <th>2</th>\n",
       "      <td>3</td>\n",
       "      <td>Jonathan David</td>\n",
       "      <td>Lille</td>\n",
       "      <td>24</td>\n",
       "      <td>Ligue 1</td>\n",
       "    </tr>\n",
       "    <tr>\n",
       "      <th>3</th>\n",
       "      <td>4</td>\n",
       "      <td>Folarin Balogun</td>\n",
       "      <td>Reims</td>\n",
       "      <td>21</td>\n",
       "      <td>Ligue 1</td>\n",
       "    </tr>\n",
       "    <tr>\n",
       "      <th>4</th>\n",
       "      <td>4</td>\n",
       "      <td>Loïs Openda</td>\n",
       "      <td>Lens</td>\n",
       "      <td>21</td>\n",
       "      <td>Ligue 1</td>\n",
       "    </tr>\n",
       "  </tbody>\n",
       "</table>\n",
       "</div>"
      ],
      "text/plain": [
       "   Rank               Player                 Club  Goals[38]   League\n",
       "0     1        Kylian Mbappé  Paris Saint-Germain         29  Ligue 1\n",
       "1     2  Alexandre Lacazette                 Lyon         27  Ligue 1\n",
       "2     3       Jonathan David                Lille         24  Ligue 1\n",
       "3     4      Folarin Balogun                Reims         21  Ligue 1\n",
       "4     4          Loïs Openda                 Lens         21  Ligue 1"
      ]
     },
     "execution_count": 29,
     "metadata": {},
     "output_type": "execute_result"
    }
   ],
   "source": [
    "lig1['League']='Ligue 1'\n",
    "lig1.head()"
   ]
  },
  {
   "cell_type": "markdown",
   "metadata": {
    "id": "vOmglQExyejK"
   },
   "source": [
    "Observe that the data needs cleaning  as the column heading are different and ranking is not needed. So we try to change the column names to be identical."
   ]
  },
  {
   "cell_type": "code",
   "execution_count": 30,
   "metadata": {
    "id": "j6skkMd21KcP"
   },
   "outputs": [],
   "source": [
    "bun=bun.drop(columns='Rank')\n",
    "epl=epl.drop(columns='Rank')\n",
    "ser=ser.drop(columns='Rank')\n",
    "laliga=laliga.drop(columns='Rank')\n",
    "lig1=lig1.drop(columns='Rank')"
   ]
  },
  {
   "cell_type": "markdown",
   "metadata": {
    "id": "sMn-DXJxzFDB"
   },
   "source": [
    "Create a new column called new_columns"
   ]
  },
  {
   "cell_type": "code",
   "execution_count": 31,
   "metadata": {
    "id": "oJeUmu0XzDiF"
   },
   "outputs": [],
   "source": [
    "new_columns=['Player','Club','Goals','League']"
   ]
  },
  {
   "cell_type": "code",
   "execution_count": 32,
   "metadata": {
    "id": "VNyuVdSwvOVS"
   },
   "outputs": [],
   "source": [
    "top5=[bun,epl,lig1,ser,laliga]\n",
    "for i in top5:\n",
    "  i.columns=new_columns"
   ]
  },
  {
   "cell_type": "markdown",
   "metadata": {},
   "source": [
    "Concatenate all the dataframes into one"
   ]
  },
  {
   "cell_type": "code",
   "execution_count": 33,
   "metadata": {
    "id": "eNdbLbiS0vQt"
   },
   "outputs": [],
   "source": [
    "required_data=pd.concat([epl,ser,laliga,lig1,bun],ignore_index=True)"
   ]
  },
  {
   "cell_type": "code",
   "execution_count": 34,
   "metadata": {
    "colab": {
     "base_uri": "https://localhost:8080/",
     "height": 206
    },
    "id": "T332Dr4SIW1r",
    "outputId": "1cc746d1-e02b-48f2-8612-26a5bfbfcd29"
   },
   "outputs": [
    {
     "data": {
      "text/html": [
       "<div>\n",
       "<style scoped>\n",
       "    .dataframe tbody tr th:only-of-type {\n",
       "        vertical-align: middle;\n",
       "    }\n",
       "\n",
       "    .dataframe tbody tr th {\n",
       "        vertical-align: top;\n",
       "    }\n",
       "\n",
       "    .dataframe thead th {\n",
       "        text-align: right;\n",
       "    }\n",
       "</style>\n",
       "<table border=\"1\" class=\"dataframe\">\n",
       "  <thead>\n",
       "    <tr style=\"text-align: right;\">\n",
       "      <th></th>\n",
       "      <th>Player</th>\n",
       "      <th>Club</th>\n",
       "      <th>Goals</th>\n",
       "      <th>League</th>\n",
       "    </tr>\n",
       "  </thead>\n",
       "  <tbody>\n",
       "    <tr>\n",
       "      <th>0</th>\n",
       "      <td>Erling Haaland</td>\n",
       "      <td>Manchester City</td>\n",
       "      <td>36</td>\n",
       "      <td>Premier league</td>\n",
       "    </tr>\n",
       "    <tr>\n",
       "      <th>1</th>\n",
       "      <td>Harry Kane</td>\n",
       "      <td>Tottenham Hotspur</td>\n",
       "      <td>30</td>\n",
       "      <td>Premier league</td>\n",
       "    </tr>\n",
       "    <tr>\n",
       "      <th>2</th>\n",
       "      <td>Ivan Toney</td>\n",
       "      <td>Brentford</td>\n",
       "      <td>20</td>\n",
       "      <td>Premier league</td>\n",
       "    </tr>\n",
       "    <tr>\n",
       "      <th>3</th>\n",
       "      <td>Mohamed Salah</td>\n",
       "      <td>Liverpool</td>\n",
       "      <td>19</td>\n",
       "      <td>Premier league</td>\n",
       "    </tr>\n",
       "    <tr>\n",
       "      <th>4</th>\n",
       "      <td>Callum Wilson</td>\n",
       "      <td>Newcastle United</td>\n",
       "      <td>18</td>\n",
       "      <td>Premier league</td>\n",
       "    </tr>\n",
       "  </tbody>\n",
       "</table>\n",
       "</div>"
      ],
      "text/plain": [
       "           Player               Club  Goals          League\n",
       "0  Erling Haaland    Manchester City     36  Premier league\n",
       "1      Harry Kane  Tottenham Hotspur     30  Premier league\n",
       "2      Ivan Toney          Brentford     20  Premier league\n",
       "3   Mohamed Salah          Liverpool     19  Premier league\n",
       "4   Callum Wilson   Newcastle United     18  Premier league"
      ]
     },
     "execution_count": 34,
     "metadata": {},
     "output_type": "execute_result"
    }
   ],
   "source": [
    "required_data.head()"
   ]
  },
  {
   "cell_type": "code",
   "execution_count": 35,
   "metadata": {
    "id": "HM6Mf7lv2PaF",
    "scrolled": true
   },
   "outputs": [],
   "source": [
    "#Arrange the columns\n",
    "required_data=pd.DataFrame(required_data,columns=['Player','League','Club','Goals'])"
   ]
  },
  {
   "cell_type": "markdown",
   "metadata": {},
   "source": [
    "Sort the values in ascending order by using the goals column and select the last 20 values"
   ]
  },
  {
   "cell_type": "code",
   "execution_count": 36,
   "metadata": {
    "id": "wICObEEiwhp2"
   },
   "outputs": [
    {
     "data": {
      "text/html": [
       "<div>\n",
       "<style scoped>\n",
       "    .dataframe tbody tr th:only-of-type {\n",
       "        vertical-align: middle;\n",
       "    }\n",
       "\n",
       "    .dataframe tbody tr th {\n",
       "        vertical-align: top;\n",
       "    }\n",
       "\n",
       "    .dataframe thead th {\n",
       "        text-align: right;\n",
       "    }\n",
       "</style>\n",
       "<table border=\"1\" class=\"dataframe\">\n",
       "  <thead>\n",
       "    <tr style=\"text-align: right;\">\n",
       "      <th></th>\n",
       "      <th>Player</th>\n",
       "      <th>League</th>\n",
       "      <th>Club</th>\n",
       "      <th>Goals</th>\n",
       "    </tr>\n",
       "  </thead>\n",
       "  <tbody>\n",
       "    <tr>\n",
       "      <th>46</th>\n",
       "      <td>Christopher Nkunku</td>\n",
       "      <td>Bundesliga</td>\n",
       "      <td>RB Leipzig</td>\n",
       "      <td>16</td>\n",
       "    </tr>\n",
       "    <tr>\n",
       "      <th>5</th>\n",
       "      <td>Marcus Rashford</td>\n",
       "      <td>Premier league</td>\n",
       "      <td>Manchester United</td>\n",
       "      <td>17</td>\n",
       "    </tr>\n",
       "    <tr>\n",
       "      <th>43</th>\n",
       "      <td>Terem Moffi</td>\n",
       "      <td>Ligue 1</td>\n",
       "      <td>Lorient/Nice[a]</td>\n",
       "      <td>18</td>\n",
       "    </tr>\n",
       "    <tr>\n",
       "      <th>4</th>\n",
       "      <td>Callum Wilson</td>\n",
       "      <td>Premier league</td>\n",
       "      <td>Newcastle United</td>\n",
       "      <td>18</td>\n",
       "    </tr>\n",
       "    <tr>\n",
       "      <th>3</th>\n",
       "      <td>Mohamed Salah</td>\n",
       "      <td>Premier league</td>\n",
       "      <td>Liverpool</td>\n",
       "      <td>19</td>\n",
       "    </tr>\n",
       "    <tr>\n",
       "      <th>41</th>\n",
       "      <td>Wissam Ben Yedder</td>\n",
       "      <td>Ligue 1</td>\n",
       "      <td>Monaco</td>\n",
       "      <td>19</td>\n",
       "    </tr>\n",
       "    <tr>\n",
       "      <th>42</th>\n",
       "      <td>Elye Wahi</td>\n",
       "      <td>Ligue 1</td>\n",
       "      <td>Montpellier</td>\n",
       "      <td>19</td>\n",
       "    </tr>\n",
       "    <tr>\n",
       "      <th>24</th>\n",
       "      <td>Karim Benzema</td>\n",
       "      <td>Laliga</td>\n",
       "      <td>Real Madrid</td>\n",
       "      <td>19</td>\n",
       "    </tr>\n",
       "    <tr>\n",
       "      <th>2</th>\n",
       "      <td>Ivan Toney</td>\n",
       "      <td>Premier league</td>\n",
       "      <td>Brentford</td>\n",
       "      <td>20</td>\n",
       "    </tr>\n",
       "    <tr>\n",
       "      <th>40</th>\n",
       "      <td>Habib Diallo</td>\n",
       "      <td>Ligue 1</td>\n",
       "      <td>Strasbourg</td>\n",
       "      <td>20</td>\n",
       "    </tr>\n",
       "    <tr>\n",
       "      <th>38</th>\n",
       "      <td>Folarin Balogun</td>\n",
       "      <td>Ligue 1</td>\n",
       "      <td>Reims</td>\n",
       "      <td>21</td>\n",
       "    </tr>\n",
       "    <tr>\n",
       "      <th>12</th>\n",
       "      <td>Lautaro Martínez</td>\n",
       "      <td>Serie A</td>\n",
       "      <td>Inter Milan</td>\n",
       "      <td>21</td>\n",
       "    </tr>\n",
       "    <tr>\n",
       "      <th>39</th>\n",
       "      <td>Loïs Openda</td>\n",
       "      <td>Ligue 1</td>\n",
       "      <td>Lens</td>\n",
       "      <td>21</td>\n",
       "    </tr>\n",
       "    <tr>\n",
       "      <th>23</th>\n",
       "      <td>Robert Lewandowski</td>\n",
       "      <td>Laliga</td>\n",
       "      <td>Barcelona</td>\n",
       "      <td>23</td>\n",
       "    </tr>\n",
       "    <tr>\n",
       "      <th>37</th>\n",
       "      <td>Jonathan David</td>\n",
       "      <td>Ligue 1</td>\n",
       "      <td>Lille</td>\n",
       "      <td>24</td>\n",
       "    </tr>\n",
       "    <tr>\n",
       "      <th>11</th>\n",
       "      <td>Victor Osimhen</td>\n",
       "      <td>Serie A</td>\n",
       "      <td>Napoli</td>\n",
       "      <td>26</td>\n",
       "    </tr>\n",
       "    <tr>\n",
       "      <th>36</th>\n",
       "      <td>Alexandre Lacazette</td>\n",
       "      <td>Ligue 1</td>\n",
       "      <td>Lyon</td>\n",
       "      <td>27</td>\n",
       "    </tr>\n",
       "    <tr>\n",
       "      <th>35</th>\n",
       "      <td>Kylian Mbappé</td>\n",
       "      <td>Ligue 1</td>\n",
       "      <td>Paris Saint-Germain</td>\n",
       "      <td>29</td>\n",
       "    </tr>\n",
       "    <tr>\n",
       "      <th>1</th>\n",
       "      <td>Harry Kane</td>\n",
       "      <td>Premier league</td>\n",
       "      <td>Tottenham Hotspur</td>\n",
       "      <td>30</td>\n",
       "    </tr>\n",
       "    <tr>\n",
       "      <th>0</th>\n",
       "      <td>Erling Haaland</td>\n",
       "      <td>Premier league</td>\n",
       "      <td>Manchester City</td>\n",
       "      <td>36</td>\n",
       "    </tr>\n",
       "  </tbody>\n",
       "</table>\n",
       "</div>"
      ],
      "text/plain": [
       "                 Player          League                 Club  Goals\n",
       "46   Christopher Nkunku      Bundesliga           RB Leipzig     16\n",
       "5       Marcus Rashford  Premier league    Manchester United     17\n",
       "43          Terem Moffi         Ligue 1      Lorient/Nice[a]     18\n",
       "4         Callum Wilson  Premier league     Newcastle United     18\n",
       "3         Mohamed Salah  Premier league            Liverpool     19\n",
       "41    Wissam Ben Yedder         Ligue 1               Monaco     19\n",
       "42            Elye Wahi         Ligue 1          Montpellier     19\n",
       "24        Karim Benzema          Laliga          Real Madrid     19\n",
       "2            Ivan Toney  Premier league            Brentford     20\n",
       "40         Habib Diallo         Ligue 1           Strasbourg     20\n",
       "38      Folarin Balogun         Ligue 1                Reims     21\n",
       "12     Lautaro Martínez         Serie A          Inter Milan     21\n",
       "39          Loïs Openda         Ligue 1                 Lens     21\n",
       "23   Robert Lewandowski          Laliga            Barcelona     23\n",
       "37       Jonathan David         Ligue 1                Lille     24\n",
       "11       Victor Osimhen         Serie A               Napoli     26\n",
       "36  Alexandre Lacazette         Ligue 1                 Lyon     27\n",
       "35        Kylian Mbappé         Ligue 1  Paris Saint-Germain     29\n",
       "1            Harry Kane  Premier league    Tottenham Hotspur     30\n",
       "0        Erling Haaland  Premier league      Manchester City     36"
      ]
     },
     "execution_count": 36,
     "metadata": {},
     "output_type": "execute_result"
    }
   ],
   "source": [
    "sorted_req_data=required_data.sort_values(by='Goals',ascending=True).tail(20)\n",
    "y=sorted_req_data['Player']\n",
    "x=sorted_req_data['Goals']\n",
    "sorted_req_data"
   ]
  },
  {
   "cell_type": "markdown",
   "metadata": {},
   "source": [
    "Create an horizontal bar plot showing the each players from the sorted data and their respective goals using matplolib"
   ]
  },
  {
   "cell_type": "code",
   "execution_count": 37,
   "metadata": {},
   "outputs": [],
   "source": [
    "#import fig_text for writing the headings and sub headings of the plot\n",
    "from highlight_text import fig_text"
   ]
  },
  {
   "cell_type": "code",
   "execution_count": 38,
   "metadata": {},
   "outputs": [],
   "source": [
    "# Import the pil library to open and access the logo to be added to the plot\n",
    "from PIL import Image"
   ]
  },
  {
   "cell_type": "code",
   "execution_count": 39,
   "metadata": {},
   "outputs": [],
   "source": [
    "# Import ticker from matplot lib to minimize the ticker on the x-axis\n",
    "import matplotlib.ticker as ticker"
   ]
  },
  {
   "cell_type": "code",
   "execution_count": 40,
   "metadata": {
    "scrolled": true
   },
   "outputs": [
    {
     "data": {
      "image/png": "[encoded data removed]",
      "text/plain": [
       "<Figure size 576x792 with 2 Axes>"
      ]
     },
     "metadata": {},
     "output_type": "display_data"
    }
   ],
   "source": [
    "#Create the figure by specifying the size and facelor\n",
    "fig=plt.figure(figsize=(8,11),facecolor='#dbbba7')\n",
    "\n",
    "#Creat an axis on the plot to hold the barplot\n",
    "ax=plt.subplot(1,1,1,facecolor='#dbbba7')\n",
    "#Create an horizontal bar with the players category on the y axis and goals on the x axis\n",
    "ax.barh(y,x,height=0.7)\n",
    "\n",
    "#Put off the spines of each corner\n",
    "ax.spines['top'].set_visible(False)\n",
    "ax.spines['right'].set_visible(False)\n",
    "ax.spines['left'].set_visible(False)\n",
    "ax.spines['bottom'].set_visible(False)\n",
    "#put of the tick in the x and y axis\n",
    "ax.tick_params(left=False,bottom=False)\n",
    "\n",
    "# Annotate the goals of each players on thier respective bars\n",
    "for index,goals in enumerate(sorted_req_data[\"Goals\"]):\n",
    "      ax.annotate(\n",
    "        xy = (goals , index),\n",
    "        text = f\"{goals}\",\n",
    "        xytext = (10, 0),\n",
    "        size = 13,\n",
    "        textcoords = \"offset points\",\n",
    "        ha = \"center\",\n",
    "        va = \"center\",\n",
    "        weight = \"bold\"\n",
    "    )\n",
    "        \n",
    "#change X axis tick labels interval with the ticker function\n",
    "ax.xaxis.set_major_locator(ticker.MultipleLocator(10))\n",
    "\n",
    "#Add the heading and the sub-heading\n",
    "fig_text(x=-0.02, y=0.92,\n",
    "         s='<EUROPE TOP 5 LEAGUE 2022/2023 Season>',\n",
    "         weight='bold',\n",
    "         size=20,\n",
    "         highlight_textprops=[{\"color\": 'Black'}]\n",
    "        )\n",
    "fig_text(x=-0.02, y=0.89,\n",
    "         s='<OVERALL GOALS | LEAGUE AND CUP MATCHES | TOP 20 PLAYERS ONLY>',\n",
    "         size=13,\n",
    "         highlight_textprops=[{\"color\": 'Black'}]\n",
    "        )\n",
    "\n",
    "#Copy the path of the intended logo in the file variable\n",
    "file='top5.png'\n",
    "#Open the image\n",
    "logo=Image.open(file)\n",
    "#Creat the axis of the image to add to the fig\n",
    "logo_ax=fig.add_axes([0.825,0.825,0.125,0.125])\n",
    "#Show the logo on the axis\n",
    "logo_ax.imshow(logo)\n",
    "#Put off the axis  \n",
    "logo_ax.axis(\"off\")\n",
    "#Save the image as jpg or similar formats\n",
    "plt.savefig('top 5 league chart.jpg')\n",
    "\n",
    "#Show the image\n",
    "plt.show()"
   ]
  }
 ],
 "metadata": {
  "colab": {
   "provenance": []
  },
  "kernelspec": {
   "display_name": "Python 3 (ipykernel)",
   "language": "python",
   "name": "python3"
  },
  "language_info": {
   "codemirror_mode": {
    "name": "ipython",
    "version": 3
   },
   "file_extension": ".py",
   "mimetype": "text/x-python",
   "name": "python",
   "nbconvert_exporter": "python",
   "pygments_lexer": "ipython3",
   "version": "3.9.7"
  }
 },
 "nbformat": 4,
 "nbformat_minor": 1
}
